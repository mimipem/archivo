{
  "cells": [
    {
      "cell_type": "code",
      "source": [
        "import pickle\n",
        "\n",
        "class MiObjeto:\n",
        "    def __init__(self, nombre, edad):\n",
        "        self.nombre = nombre\n",
        "        self.edad = edad\n",
        "\n",
        "# Crear un objeto\n",
        "objeto_original = MiObjeto(nombre=\"Ejemplo\", edad=25)\n",
        "\n",
        "# Serializar el objeto y almacenarlo en un archivo\n",
        "archivo_pickle = \"objeto_serializado.pickle\"\n",
        "with open(archivo_pickle, 'wb') as archivo:\n",
        "    pickle.dump(objeto_original, archivo)\n",
        "\n",
        "# Deserializar el objeto desde el archivo\n",
        "with open(archivo_pickle, 'rb') as archivo:\n",
        "    objeto_deserializado = pickle.load(archivo)\n",
        "\n",
        "# Imprimir el objeto original y el objeto deserializado\n",
        "print(\"Objeto original:\")\n",
        "print(objeto_original.nombre, objeto_original.edad)\n",
        "\n",
        "print(\"\\nObjeto deserializado:\")\n",
        "print(objeto_deserializado.nombre, objeto_deserializado.edad)\n"
      ],
      "metadata": {
        "id": "rDEz_DA2KhuG"
      },
      "execution_count": null,
      "outputs": []
    }
  ],
  "metadata": {
    "colab": {
      "toc_visible": true,
      "provenance": []
    },
    "kernelspec": {
      "display_name": "Python 3",
      "name": "python3"
    }
  },
  "nbformat": 4,
  "nbformat_minor": 0
}